{
 "cells": [
  {
   "cell_type": "markdown",
   "id": "3567981a",
   "metadata": {},
   "source": [
    "# Using Python for preparing HEAT data"
   ]
  },
  {
   "cell_type": "markdown",
   "id": "853d4868",
   "metadata": {},
   "source": [
    "Using Python can allow us to manipulate data in ways that Excel often can't, or in ways that are much easier than their Excel counterparts. Here I am just going to show a few examples of situations that I have encoutnered in the past when dealing with registers, and how I would solve these problems using Python."
   ]
  },
  {
   "cell_type": "markdown",
   "id": "3e2dd4f8",
   "metadata": {},
   "source": [
    "The first example is the situation where you are given one name columns with first and last names included, as well as some students having middle names included. Here you can see the sample file I have read in."
   ]
  },
  {
   "cell_type": "code",
   "execution_count": 1,
   "id": "6a9b9bde",
   "metadata": {},
   "outputs": [
    {
     "data": {
      "text/html": [
       "<div>\n",
       "<style scoped>\n",
       "    .dataframe tbody tr th:only-of-type {\n",
       "        vertical-align: middle;\n",
       "    }\n",
       "\n",
       "    .dataframe tbody tr th {\n",
       "        vertical-align: top;\n",
       "    }\n",
       "\n",
       "    .dataframe thead th {\n",
       "        text-align: right;\n",
       "    }\n",
       "</style>\n",
       "<table border=\"1\" class=\"dataframe\">\n",
       "  <thead>\n",
       "    <tr style=\"text-align: right;\">\n",
       "      <th></th>\n",
       "      <th>names</th>\n",
       "    </tr>\n",
       "  </thead>\n",
       "  <tbody>\n",
       "    <tr>\n",
       "      <th>0</th>\n",
       "      <td>charlie jones</td>\n",
       "    </tr>\n",
       "    <tr>\n",
       "      <th>1</th>\n",
       "      <td>oliwia maslak</td>\n",
       "    </tr>\n",
       "    <tr>\n",
       "      <th>2</th>\n",
       "      <td>first middle last</td>\n",
       "    </tr>\n",
       "    <tr>\n",
       "      <th>3</th>\n",
       "      <td>python is better than excel</td>\n",
       "    </tr>\n",
       "  </tbody>\n",
       "</table>\n",
       "</div>"
      ],
      "text/plain": [
       "                         names\n",
       "0                charlie jones\n",
       "1                oliwia maslak\n",
       "2            first middle last\n",
       "3  python is better than excel"
      ]
     },
     "execution_count": 1,
     "metadata": {},
     "output_type": "execute_result"
    }
   ],
   "source": [
    "import pandas as pd\n",
    "file = pd.read_csv('multiplenames.csv')\n",
    "df = pd.DataFrame(file)\n",
    "df.head()"
   ]
  },
  {
   "cell_type": "markdown",
   "id": "9b99516c",
   "metadata": {},
   "source": [
    "The correct formatting for HEAT is to present this data in two columns: first name and last name. In Excel, we would achieve this by highlighting all of our names column, going into the Data tab and choosing Text to Columns. Selecting 'space' as our delimiter, this willl then create one column per word (or one column for every character between each space, to be more precise). So, if we have a student with middle names, this will create more columns than we want, and we are then left having to find our furthest column, sorting Z-A to have all our results come up, putting these into the second column, and repeating for any other number of middle names. Instead, Python makes this much easier using the following commands:"
   ]
  },
  {
   "cell_type": "code",
   "execution_count": 2,
   "id": "4d3d6703",
   "metadata": {},
   "outputs": [
    {
     "data": {
      "text/html": [
       "<div>\n",
       "<style scoped>\n",
       "    .dataframe tbody tr th:only-of-type {\n",
       "        vertical-align: middle;\n",
       "    }\n",
       "\n",
       "    .dataframe tbody tr th {\n",
       "        vertical-align: top;\n",
       "    }\n",
       "\n",
       "    .dataframe thead th {\n",
       "        text-align: right;\n",
       "    }\n",
       "</style>\n",
       "<table border=\"1\" class=\"dataframe\">\n",
       "  <thead>\n",
       "    <tr style=\"text-align: right;\">\n",
       "      <th></th>\n",
       "      <th>names</th>\n",
       "      <th>first_name</th>\n",
       "      <th>last_name</th>\n",
       "    </tr>\n",
       "  </thead>\n",
       "  <tbody>\n",
       "    <tr>\n",
       "      <th>0</th>\n",
       "      <td>charlie jones</td>\n",
       "      <td>Charlie</td>\n",
       "      <td>Jones</td>\n",
       "    </tr>\n",
       "    <tr>\n",
       "      <th>1</th>\n",
       "      <td>oliwia maslak</td>\n",
       "      <td>Oliwia</td>\n",
       "      <td>Maslak</td>\n",
       "    </tr>\n",
       "    <tr>\n",
       "      <th>2</th>\n",
       "      <td>first middle last</td>\n",
       "      <td>First</td>\n",
       "      <td>Last</td>\n",
       "    </tr>\n",
       "    <tr>\n",
       "      <th>3</th>\n",
       "      <td>python is better than excel</td>\n",
       "      <td>Python</td>\n",
       "      <td>Excel</td>\n",
       "    </tr>\n",
       "  </tbody>\n",
       "</table>\n",
       "</div>"
      ],
      "text/plain": [
       "                         names first_name last_name\n",
       "0                charlie jones    Charlie     Jones\n",
       "1                oliwia maslak     Oliwia    Maslak\n",
       "2            first middle last      First      Last\n",
       "3  python is better than excel     Python     Excel"
      ]
     },
     "execution_count": 2,
     "metadata": {},
     "output_type": "execute_result"
    }
   ],
   "source": [
    "df['first_name'] = df.names.apply(lambda row: row.split()[0].title())\n",
    "df['last_name'] = df.names.apply(lambda row: row.split()[-1].title())\n",
    "df.head()"
   ]
  },
  {
   "cell_type": "markdown",
   "id": "7365d063",
   "metadata": {},
   "source": [
    "Using just two lines of text, we have filtered through the entire dataset and created accurate first and last name columns. These commands will work regardless of how many middle names are present, as can be see here where there are entries with no, one, and multiple middle names. Though this dataset is only small for demonstration purposes, this same syntax will apply regardless of how many entries we have, making it a very efficient way to clean our data. Next, we will drop the 'names' column so we are ready to import the data to HEAT."
   ]
  },
  {
   "cell_type": "code",
   "execution_count": 3,
   "id": "6878f313",
   "metadata": {},
   "outputs": [
    {
     "data": {
      "text/html": [
       "<div>\n",
       "<style scoped>\n",
       "    .dataframe tbody tr th:only-of-type {\n",
       "        vertical-align: middle;\n",
       "    }\n",
       "\n",
       "    .dataframe tbody tr th {\n",
       "        vertical-align: top;\n",
       "    }\n",
       "\n",
       "    .dataframe thead th {\n",
       "        text-align: right;\n",
       "    }\n",
       "</style>\n",
       "<table border=\"1\" class=\"dataframe\">\n",
       "  <thead>\n",
       "    <tr style=\"text-align: right;\">\n",
       "      <th></th>\n",
       "      <th>first_name</th>\n",
       "      <th>last_name</th>\n",
       "    </tr>\n",
       "  </thead>\n",
       "  <tbody>\n",
       "    <tr>\n",
       "      <th>0</th>\n",
       "      <td>Charlie</td>\n",
       "      <td>Jones</td>\n",
       "    </tr>\n",
       "    <tr>\n",
       "      <th>1</th>\n",
       "      <td>Oliwia</td>\n",
       "      <td>Maslak</td>\n",
       "    </tr>\n",
       "    <tr>\n",
       "      <th>2</th>\n",
       "      <td>First</td>\n",
       "      <td>Last</td>\n",
       "    </tr>\n",
       "    <tr>\n",
       "      <th>3</th>\n",
       "      <td>Python</td>\n",
       "      <td>Excel</td>\n",
       "    </tr>\n",
       "  </tbody>\n",
       "</table>\n",
       "</div>"
      ],
      "text/plain": [
       "  first_name last_name\n",
       "0    Charlie     Jones\n",
       "1     Oliwia    Maslak\n",
       "2      First      Last\n",
       "3     Python     Excel"
      ]
     },
     "execution_count": 3,
     "metadata": {},
     "output_type": "execute_result"
    }
   ],
   "source": [
    "df.drop(columns='names', inplace=True)\n",
    "df.head()"
   ]
  },
  {
   "cell_type": "markdown",
   "id": "6fa7288a",
   "metadata": {},
   "source": [
    "In this example, we are faced with a file which has names in the format of: \"Last, First Middle\"."
   ]
  },
  {
   "cell_type": "code",
   "execution_count": 4,
   "id": "90e23c41",
   "metadata": {},
   "outputs": [
    {
     "data": {
      "text/html": [
       "<div>\n",
       "<style scoped>\n",
       "    .dataframe tbody tr th:only-of-type {\n",
       "        vertical-align: middle;\n",
       "    }\n",
       "\n",
       "    .dataframe tbody tr th {\n",
       "        vertical-align: top;\n",
       "    }\n",
       "\n",
       "    .dataframe thead th {\n",
       "        text-align: right;\n",
       "    }\n",
       "</style>\n",
       "<table border=\"1\" class=\"dataframe\">\n",
       "  <thead>\n",
       "    <tr style=\"text-align: right;\">\n",
       "      <th></th>\n",
       "      <th>names</th>\n",
       "    </tr>\n",
       "  </thead>\n",
       "  <tbody>\n",
       "    <tr>\n",
       "      <th>0</th>\n",
       "      <td>jones, charlie</td>\n",
       "    </tr>\n",
       "    <tr>\n",
       "      <th>1</th>\n",
       "      <td>last, first names</td>\n",
       "    </tr>\n",
       "    <tr>\n",
       "      <th>2</th>\n",
       "      <td>smith, alan middle middle2 middle3</td>\n",
       "    </tr>\n",
       "    <tr>\n",
       "      <th>3</th>\n",
       "      <td>there, hello</td>\n",
       "    </tr>\n",
       "    <tr>\n",
       "      <th>4</th>\n",
       "      <td>example, ridiculous I am just going to type a ...</td>\n",
       "    </tr>\n",
       "  </tbody>\n",
       "</table>\n",
       "</div>"
      ],
      "text/plain": [
       "                                               names\n",
       "0                                     jones, charlie\n",
       "1                                  last, first names\n",
       "2                 smith, alan middle middle2 middle3\n",
       "3                                       there, hello\n",
       "4  example, ridiculous I am just going to type a ..."
      ]
     },
     "execution_count": 4,
     "metadata": {},
     "output_type": "execute_result"
    }
   ],
   "source": [
    "last_first = pd.read_csv('last, first name(s).csv')\n",
    "df1 = pd.DataFrame(last_first)\n",
    "df1.head()"
   ]
  },
  {
   "cell_type": "markdown",
   "id": "c02f83fc",
   "metadata": {},
   "source": [
    "In Excel, this format is particularly annoying to work with because even if we did the method as in the previous example, we would have to switch our columns round, and even then, our last names would all be in the format \"Last,\", as opposed to \"Last\" which is the format we want. We would then have to create a new column, and enter into it a formula which removes the last character of every string (which probably exists, though I am not aware of one). Then we would have to copy and paste these as values into our last name column. Python once again makes this process *so* much easier by using the following commands:"
   ]
  },
  {
   "cell_type": "code",
   "execution_count": 5,
   "id": "a6914a49",
   "metadata": {},
   "outputs": [
    {
     "data": {
      "text/html": [
       "<div>\n",
       "<style scoped>\n",
       "    .dataframe tbody tr th:only-of-type {\n",
       "        vertical-align: middle;\n",
       "    }\n",
       "\n",
       "    .dataframe tbody tr th {\n",
       "        vertical-align: top;\n",
       "    }\n",
       "\n",
       "    .dataframe thead th {\n",
       "        text-align: right;\n",
       "    }\n",
       "</style>\n",
       "<table border=\"1\" class=\"dataframe\">\n",
       "  <thead>\n",
       "    <tr style=\"text-align: right;\">\n",
       "      <th></th>\n",
       "      <th>names</th>\n",
       "      <th>first_name</th>\n",
       "      <th>last_name</th>\n",
       "    </tr>\n",
       "  </thead>\n",
       "  <tbody>\n",
       "    <tr>\n",
       "      <th>0</th>\n",
       "      <td>jones, charlie</td>\n",
       "      <td>Charlie</td>\n",
       "      <td>Jones</td>\n",
       "    </tr>\n",
       "    <tr>\n",
       "      <th>1</th>\n",
       "      <td>last, first names</td>\n",
       "      <td>First</td>\n",
       "      <td>Last</td>\n",
       "    </tr>\n",
       "    <tr>\n",
       "      <th>2</th>\n",
       "      <td>smith, alan middle middle2 middle3</td>\n",
       "      <td>Alan</td>\n",
       "      <td>Smith</td>\n",
       "    </tr>\n",
       "    <tr>\n",
       "      <th>3</th>\n",
       "      <td>there, hello</td>\n",
       "      <td>Hello</td>\n",
       "      <td>There</td>\n",
       "    </tr>\n",
       "    <tr>\n",
       "      <th>4</th>\n",
       "      <td>example, ridiculous I am just going to type a ...</td>\n",
       "      <td>Ridiculous</td>\n",
       "      <td>Example</td>\n",
       "    </tr>\n",
       "  </tbody>\n",
       "</table>\n",
       "</div>"
      ],
      "text/plain": [
       "                                               names  first_name last_name\n",
       "0                                     jones, charlie     Charlie     Jones\n",
       "1                                  last, first names       First      Last\n",
       "2                 smith, alan middle middle2 middle3        Alan     Smith\n",
       "3                                       there, hello       Hello     There\n",
       "4  example, ridiculous I am just going to type a ...  Ridiculous   Example"
      ]
     },
     "execution_count": 5,
     "metadata": {},
     "output_type": "execute_result"
    }
   ],
   "source": [
    "df1['first_name'] = df1.names.apply(lambda row: row.split()[1].title())\n",
    "df1['last_name'] = df1.names.apply(lambda row: row.split()[0][:-1].title())\n",
    "df1.head()"
   ]
  },
  {
   "cell_type": "markdown",
   "id": "b89ba66a",
   "metadata": {},
   "source": [
    "Once again, Python cleans up the data immaculately despite differing lengths of middle names, with no problems at all. I have even added the .title() method to format our data as titles, e.g. Charlie Jones instead of charlie jones. I am almost certain there is no way to do this in Excel. Again, this will work regardless of the number of entries and does not require us to select our data like in Excel; Python knows that it is to apply the command to each entry in the dataframe. As before, we will drop the 'names' column to format our data better so that it is ready to import to HEAT."
   ]
  },
  {
   "cell_type": "code",
   "execution_count": 6,
   "id": "fbd14e96",
   "metadata": {},
   "outputs": [
    {
     "data": {
      "text/html": [
       "<div>\n",
       "<style scoped>\n",
       "    .dataframe tbody tr th:only-of-type {\n",
       "        vertical-align: middle;\n",
       "    }\n",
       "\n",
       "    .dataframe tbody tr th {\n",
       "        vertical-align: top;\n",
       "    }\n",
       "\n",
       "    .dataframe thead th {\n",
       "        text-align: right;\n",
       "    }\n",
       "</style>\n",
       "<table border=\"1\" class=\"dataframe\">\n",
       "  <thead>\n",
       "    <tr style=\"text-align: right;\">\n",
       "      <th></th>\n",
       "      <th>first_name</th>\n",
       "      <th>last_name</th>\n",
       "    </tr>\n",
       "  </thead>\n",
       "  <tbody>\n",
       "    <tr>\n",
       "      <th>0</th>\n",
       "      <td>Charlie</td>\n",
       "      <td>Jones</td>\n",
       "    </tr>\n",
       "    <tr>\n",
       "      <th>1</th>\n",
       "      <td>First</td>\n",
       "      <td>Last</td>\n",
       "    </tr>\n",
       "    <tr>\n",
       "      <th>2</th>\n",
       "      <td>Alan</td>\n",
       "      <td>Smith</td>\n",
       "    </tr>\n",
       "    <tr>\n",
       "      <th>3</th>\n",
       "      <td>Hello</td>\n",
       "      <td>There</td>\n",
       "    </tr>\n",
       "    <tr>\n",
       "      <th>4</th>\n",
       "      <td>Ridiculous</td>\n",
       "      <td>Example</td>\n",
       "    </tr>\n",
       "  </tbody>\n",
       "</table>\n",
       "</div>"
      ],
      "text/plain": [
       "   first_name last_name\n",
       "0     Charlie     Jones\n",
       "1       First      Last\n",
       "2        Alan     Smith\n",
       "3       Hello     There\n",
       "4  Ridiculous   Example"
      ]
     },
     "execution_count": 6,
     "metadata": {},
     "output_type": "execute_result"
    }
   ],
   "source": [
    "df1.drop(columns='names', inplace=True)\n",
    "df1.head()"
   ]
  },
  {
   "cell_type": "markdown",
   "id": "62be14d3",
   "metadata": {},
   "source": [
    "In this example, we are looking at activity titles instead. Often when we upload titles to HEAT, we want them to include the date to make it easier to find and sort uploads."
   ]
  },
  {
   "cell_type": "code",
   "execution_count": 7,
   "id": "368ca52a",
   "metadata": {},
   "outputs": [
    {
     "data": {
      "text/html": [
       "<div>\n",
       "<style scoped>\n",
       "    .dataframe tbody tr th:only-of-type {\n",
       "        vertical-align: middle;\n",
       "    }\n",
       "\n",
       "    .dataframe tbody tr th {\n",
       "        vertical-align: top;\n",
       "    }\n",
       "\n",
       "    .dataframe thead th {\n",
       "        text-align: right;\n",
       "    }\n",
       "</style>\n",
       "<table border=\"1\" class=\"dataframe\">\n",
       "  <thead>\n",
       "    <tr style=\"text-align: right;\">\n",
       "      <th></th>\n",
       "      <th>activity_title</th>\n",
       "      <th>date</th>\n",
       "    </tr>\n",
       "  </thead>\n",
       "  <tbody>\n",
       "    <tr>\n",
       "      <th>0</th>\n",
       "      <td>activity</td>\n",
       "      <td>23/03/2023</td>\n",
       "    </tr>\n",
       "    <tr>\n",
       "      <th>1</th>\n",
       "      <td>CED</td>\n",
       "      <td>18/05/2023</td>\n",
       "    </tr>\n",
       "    <tr>\n",
       "      <th>2</th>\n",
       "      <td>building futures</td>\n",
       "      <td>11/05/2023</td>\n",
       "    </tr>\n",
       "    <tr>\n",
       "      <th>3</th>\n",
       "      <td>unifrog</td>\n",
       "      <td>31/12/2022</td>\n",
       "    </tr>\n",
       "    <tr>\n",
       "      <th>4</th>\n",
       "      <td>example</td>\n",
       "      <td>01/01/1900</td>\n",
       "    </tr>\n",
       "  </tbody>\n",
       "</table>\n",
       "</div>"
      ],
      "text/plain": [
       "     activity_title        date\n",
       "0          activity  23/03/2023\n",
       "1               CED  18/05/2023\n",
       "2  building futures  11/05/2023\n",
       "3           unifrog  31/12/2022\n",
       "4           example  01/01/1900"
      ]
     },
     "execution_count": 7,
     "metadata": {},
     "output_type": "execute_result"
    }
   ],
   "source": [
    "title_date = pd.read_csv('title_date.csv')\n",
    "df2 = pd.DataFrame(title_date)\n",
    "df2.head()"
   ]
  },
  {
   "cell_type": "markdown",
   "id": "d5384aae",
   "metadata": {},
   "source": [
    "Excel doesn't perform terribly in this respect, and actually this is perfectly doable in Excel for the most part. With that being said, it is still easier in Python in my opinion, using just one simple sum to create our new title for every entry in our dataframe."
   ]
  },
  {
   "cell_type": "code",
   "execution_count": 8,
   "id": "15dc0888",
   "metadata": {},
   "outputs": [
    {
     "data": {
      "text/html": [
       "<div>\n",
       "<style scoped>\n",
       "    .dataframe tbody tr th:only-of-type {\n",
       "        vertical-align: middle;\n",
       "    }\n",
       "\n",
       "    .dataframe tbody tr th {\n",
       "        vertical-align: top;\n",
       "    }\n",
       "\n",
       "    .dataframe thead th {\n",
       "        text-align: right;\n",
       "    }\n",
       "</style>\n",
       "<table border=\"1\" class=\"dataframe\">\n",
       "  <thead>\n",
       "    <tr style=\"text-align: right;\">\n",
       "      <th></th>\n",
       "      <th>activity_title</th>\n",
       "      <th>date</th>\n",
       "      <th>title_new</th>\n",
       "    </tr>\n",
       "  </thead>\n",
       "  <tbody>\n",
       "    <tr>\n",
       "      <th>0</th>\n",
       "      <td>activity</td>\n",
       "      <td>23/03/2023</td>\n",
       "      <td>activity 23/03/2023</td>\n",
       "    </tr>\n",
       "    <tr>\n",
       "      <th>1</th>\n",
       "      <td>CED</td>\n",
       "      <td>18/05/2023</td>\n",
       "      <td>CED 18/05/2023</td>\n",
       "    </tr>\n",
       "    <tr>\n",
       "      <th>2</th>\n",
       "      <td>building futures</td>\n",
       "      <td>11/05/2023</td>\n",
       "      <td>building futures 11/05/2023</td>\n",
       "    </tr>\n",
       "    <tr>\n",
       "      <th>3</th>\n",
       "      <td>unifrog</td>\n",
       "      <td>31/12/2022</td>\n",
       "      <td>unifrog 31/12/2022</td>\n",
       "    </tr>\n",
       "    <tr>\n",
       "      <th>4</th>\n",
       "      <td>example</td>\n",
       "      <td>01/01/1900</td>\n",
       "      <td>example 01/01/1900</td>\n",
       "    </tr>\n",
       "  </tbody>\n",
       "</table>\n",
       "</div>"
      ],
      "text/plain": [
       "     activity_title        date                    title_new\n",
       "0          activity  23/03/2023          activity 23/03/2023\n",
       "1               CED  18/05/2023               CED 18/05/2023\n",
       "2  building futures  11/05/2023  building futures 11/05/2023\n",
       "3           unifrog  31/12/2022           unifrog 31/12/2022\n",
       "4           example  01/01/1900           example 01/01/1900"
      ]
     },
     "execution_count": 8,
     "metadata": {},
     "output_type": "execute_result"
    }
   ],
   "source": [
    "df2['title_new'] = df2.apply(lambda row: row.activity_title + ' ' + row.date, axis=1)\n",
    "df2.head()"
   ]
  },
  {
   "cell_type": "markdown",
   "id": "60931064",
   "metadata": {},
   "source": [
    "Here, however, we can see another benefit of using Python over Excel. Suppose we only want our dataframe to contain certain columns: using Excel, we would have to go through each column and delete the ones we don't want. When you have sheets with as many columns as those in the HEAT import templates, that can be a huge pain. Python makes it so much easier for us, because we can simply tell it which columns we want to keep and it will create a dataframe containing only those columns. I have then renamed the column just to neaten up our output slightly."
   ]
  },
  {
   "cell_type": "code",
   "execution_count": 9,
   "id": "596241f3",
   "metadata": {},
   "outputs": [
    {
     "data": {
      "text/html": [
       "<div>\n",
       "<style scoped>\n",
       "    .dataframe tbody tr th:only-of-type {\n",
       "        vertical-align: middle;\n",
       "    }\n",
       "\n",
       "    .dataframe tbody tr th {\n",
       "        vertical-align: top;\n",
       "    }\n",
       "\n",
       "    .dataframe thead th {\n",
       "        text-align: right;\n",
       "    }\n",
       "</style>\n",
       "<table border=\"1\" class=\"dataframe\">\n",
       "  <thead>\n",
       "    <tr style=\"text-align: right;\">\n",
       "      <th></th>\n",
       "      <th>Title</th>\n",
       "    </tr>\n",
       "  </thead>\n",
       "  <tbody>\n",
       "    <tr>\n",
       "      <th>0</th>\n",
       "      <td>activity 23/03/2023</td>\n",
       "    </tr>\n",
       "    <tr>\n",
       "      <th>1</th>\n",
       "      <td>CED 18/05/2023</td>\n",
       "    </tr>\n",
       "    <tr>\n",
       "      <th>2</th>\n",
       "      <td>building futures 11/05/2023</td>\n",
       "    </tr>\n",
       "    <tr>\n",
       "      <th>3</th>\n",
       "      <td>unifrog 31/12/2022</td>\n",
       "    </tr>\n",
       "    <tr>\n",
       "      <th>4</th>\n",
       "      <td>example 01/01/1900</td>\n",
       "    </tr>\n",
       "  </tbody>\n",
       "</table>\n",
       "</div>"
      ],
      "text/plain": [
       "                         Title\n",
       "0          activity 23/03/2023\n",
       "1               CED 18/05/2023\n",
       "2  building futures 11/05/2023\n",
       "3           unifrog 31/12/2022\n",
       "4           example 01/01/1900"
      ]
     },
     "execution_count": 9,
     "metadata": {},
     "output_type": "execute_result"
    }
   ],
   "source": [
    "df2 = df2.title_new\n",
    "title = pd.DataFrame(df2)\n",
    "title.rename(columns={'title_new': 'Title'}, inplace=True)\n",
    "title.head()"
   ]
  },
  {
   "cell_type": "markdown",
   "id": "9ab10ca6",
   "metadata": {},
   "source": [
    "# Closing remarks"
   ]
  },
  {
   "cell_type": "markdown",
   "id": "8b35e6b1",
   "metadata": {},
   "source": [
    "I hope you have learned something new and potentially valuable about the potential for using Python in the workplace to streamline our operations. There are *so* many benefits to using Python that I could get into, but these are simply some practical benefits that I have encountered in my experience thus far. Thanks :)"
   ]
  }
 ],
 "metadata": {
  "kernelspec": {
   "display_name": "Python 3 (ipykernel)",
   "language": "python",
   "name": "python3"
  },
  "language_info": {
   "codemirror_mode": {
    "name": "ipython",
    "version": 3
   },
   "file_extension": ".py",
   "mimetype": "text/x-python",
   "name": "python",
   "nbconvert_exporter": "python",
   "pygments_lexer": "ipython3",
   "version": "3.9.13"
  }
 },
 "nbformat": 4,
 "nbformat_minor": 5
}
